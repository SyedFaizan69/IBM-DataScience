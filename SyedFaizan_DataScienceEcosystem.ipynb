{
 "cells": [
  {
   "cell_type": "markdown",
   "id": "b760e6c4",
   "metadata": {},
   "source": [
    "# Data Science Tools and EcoSystem"
   ]
  },
  {
   "cell_type": "markdown",
   "id": "4b195c0e",
   "metadata": {},
   "source": [
    "In this notebook, Data Science Tools and Ecosystem are summarized."
   ]
  },
  {
   "cell_type": "markdown",
   "id": "b6a33515",
   "metadata": {},
   "source": [
    "### Objectives\n",
    "\n",
    "**Objectives:**\n",
    "\n",
    "- **List popular languages for Data Science:**\n",
    "  Explore and understand programming languages commonly used in the field of Data Science.\n",
    "\n",
    "- **Examine key data science libraries:**\n",
    "  Familiarize yourself with essential libraries like NumPy, Pandas, and Matplotlib for data analysis and visualization.\n",
    "\n",
    "- **Discover data science tools:**\n",
    "  Gain insights into various tools utilized in the data science workflow, including database systems, big data tools, and notebook environments.\n",
    "\n",
    "- **Understand arithmetic expressions:**\n",
    "  Learn the basics of arithmetic expressions, including addition, subtraction, multiplication, and division.\n",
    "\n",
    "- **Practice coding examples:**\n",
    "  Apply the concepts discussed in the notebook by working through coding examples involving calculations and unit conversions.\n"
   ]
  },
  {
   "cell_type": "markdown",
   "id": "7d5fec02",
   "metadata": {},
   "source": [
    "Some of the popular languages that Data Scientists use are:\n",
    "\n",
    "1. **Python**: \n",
    "\n",
    "2. **R**: \n",
    "\n",
    "3. **Java**:\n",
    "\n",
    "4. **JavaScript (with libraries like D3.js)**:\n",
    "\n"
   ]
  },
  {
   "cell_type": "markdown",
   "id": "079c9943",
   "metadata": {},
   "source": [
    "Some of the commonly used libraries used by Data Scientists include:\n",
    "\n",
    "1. **NumPy**:\n",
    "\n",
    "2. **Pandas**:\n",
    "\n",
    "3. **Matplotlib**:\n",
    "\n",
    "4. **Scikit-learn**:\n",
    "\n",
    "5. **PyTorch**:\n",
    "\n",
    "6. **Plotly**:"
   ]
  },
  {
   "cell_type": "markdown",
   "id": "a74f0f99",
   "metadata": {},
   "source": [
    "Data Science Tools:\n",
    "|Tools |Description|\n",
    "|-----|:-----|\n",
    "|Tensor Flow |Famous for creating deep learning neural networks.  |\n",
    "|Jupyter Notebook |Enables interactive collaboration among data scientists, data engineers, mathematicians, researchers|\n",
    "|Apache Spark |Spark provides an interface for programming clusters with implicit data parallelism and fault tolerance|"
   ]
  },
  {
   "cell_type": "markdown",
   "id": "ba21bb3a",
   "metadata": {},
   "source": [
    "### Below are a few examples of evaluating arithmetic expressions in Python.\n",
    "\n",
    "1. **Addition:**\n",
    "   - The sum of two numbers, for example: `5 + 3`.\n",
    "\n",
    "2. **Subtraction:**\n",
    "   - The difference between two numbers, for example: `10 - 4`.\n",
    "\n",
    "3. **Multiplication:**\n",
    "   - The product of two numbers, for example: `6 * 7`.\n",
    "\n",
    "4. **Division:**\n",
    "   - The quotient of dividing one number by another, for example: `15 / 3`."
   ]
  },
  {
   "cell_type": "code",
   "execution_count": 6,
   "id": "983cbbc2",
   "metadata": {},
   "outputs": [
    {
     "data": {
      "text/plain": [
       "17"
      ]
     },
     "execution_count": 6,
     "metadata": {},
     "output_type": "execute_result"
    }
   ],
   "source": [
    "# This a simple arithmetic expression to mutiply then add integers\n",
    "(3*4)+5\n",
    "# result: 17"
   ]
  },
  {
   "cell_type": "code",
   "execution_count": 8,
   "id": "a65fd2cf",
   "metadata": {},
   "outputs": [
    {
     "name": "stdout",
     "output_type": "stream",
     "text": [
      "200 minutes is equal to 3.3333333333333335 hours.\n"
     ]
    }
   ],
   "source": [
    "# Convert 200 minutes to hours\n",
    "minutes = 200\n",
    "hours = minutes / 60\n",
    "\n",
    "# Print the result\n",
    "print(f\"{minutes} minutes is equal to {hours} hours.\")\n"
   ]
  },
  {
   "cell_type": "markdown",
   "id": "120afccb",
   "metadata": {},
   "source": [
    "## Author:\n",
    "\n",
    "Syed Muhammad Faizan Alam\n"
   ]
  },
  {
   "cell_type": "code",
   "execution_count": null,
   "id": "ca38ffb6",
   "metadata": {},
   "outputs": [],
   "source": []
  }
 ],
 "metadata": {
  "kernelspec": {
   "display_name": "Python 3 (ipykernel)",
   "language": "python",
   "name": "python3"
  },
  "language_info": {
   "codemirror_mode": {
    "name": "ipython",
    "version": 3
   },
   "file_extension": ".py",
   "mimetype": "text/x-python",
   "name": "python",
   "nbconvert_exporter": "python",
   "pygments_lexer": "ipython3",
   "version": "3.11.5"
  }
 },
 "nbformat": 4,
 "nbformat_minor": 5
}
